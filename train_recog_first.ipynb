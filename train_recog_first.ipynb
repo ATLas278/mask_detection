{
 "cells": [
  {
   "cell_type": "code",
   "execution_count": 14,
   "id": "27ebebf1-8653-456d-8328-5b9dc258247a",
   "metadata": {},
   "outputs": [
    {
     "name": "stdout",
     "output_type": "stream",
     "text": [
      "/bin/bash: cv2: command not found\n"
     ]
    }
   ],
   "source": [
    "!cv2 version"
   ]
  },
  {
   "cell_type": "code",
   "execution_count": 1,
   "id": "3a16e285-65ea-4ced-825c-f19a9e1511fb",
   "metadata": {},
   "outputs": [],
   "source": [
    "from tensorflow.keras.preprocessing.image import ImageDataGenerator # Generate batches of tensor image data with real-time data augmentation.\n",
    "from tensorflow.keras.applications import MobileNetV2 # CNN architecture that works well w/mobile devices as well\n",
    "from tensorflow.keras.layers import AveragePooling2D, Dropout, Flatten, Dense, Input\n",
    "from tensorflow.keras.models import Model\n",
    "from tensorflow.keras.optimizers import Adam # stochastic gradient descent method that is based on adaptive estimation of first-order and second-order moments.\n",
    "from tensorflow.keras.applications.mobilenet_v2 import preprocess_input # Preprocesses a tensor or Numpy array encoding a batch of images.\n",
    "from tensorflow.keras.preprocessing.image import img_to_array, load_img \n",
    "from tensorflow.keras.utils import to_categorical # converts a class vector (integers) to a binary class matrix\n",
    "from sklearn.preprocessing import LabelBinarizer\n",
    "from sklearn.model_selection import train_test_split\n",
    "from sklearn.metrics import classification_report\n",
    "from imutils import paths\n",
    "\n",
    "import numpy as np\n",
    "import pandas as pd\n",
    "import os\n",
    "import matplotlib.pyplot as plt\n",
    "%matplotlib inline\n",
    "plt.style.use('ggplot')\n",
    "plt.rcParams.update({'font.size': 16})\n",
    "plt.rcParams['savefig.dpi'] = 200\n",
    "plt.rcParams['axes.facecolor'] = 'white'\n",
    "plt.rcParams['grid.color'] = 'lightgrey'"
   ]
  },
  {
   "cell_type": "markdown",
   "id": "afee51fc-e475-43f9-9476-ac7028c9f7f4",
   "metadata": {},
   "source": [
    "## Preprocessing the data"
   ]
  },
  {
   "cell_type": "code",
   "execution_count": 2,
   "id": "45d308cf-a6a5-4112-a077-b287aaccf238",
   "metadata": {},
   "outputs": [],
   "source": [
    "# init the initial learning rate, number of epochs to train for, and batch size\n",
    "init_lr = 1e-4\n",
    "epochs = 20\n",
    "bs = 32"
   ]
  },
  {
   "cell_type": "code",
   "execution_count": 3,
   "id": "2d6271c8-4973-4efc-8d80-6eba1c56d77d",
   "metadata": {},
   "outputs": [],
   "source": [
    "DIRECTORY = r\"data\"\n",
    "CATEGORIES = [\"with_mask\",\"without_mask\",\"mask_weared_incorrect\"]"
   ]
  },
  {
   "cell_type": "code",
   "execution_count": 4,
   "id": "3d4c9565-b003-49ac-99d8-05c55c70f891",
   "metadata": {},
   "outputs": [
    {
     "name": "stdout",
     "output_type": "stream",
     "text": [
      "[INFO] loading images...\n"
     ]
    }
   ],
   "source": [
    "print(\"[INFO] loading images...\")"
   ]
  },
  {
   "cell_type": "code",
   "execution_count": 5,
   "id": "5d6cd379-7d68-49cc-9ea4-f021698ad376",
   "metadata": {},
   "outputs": [],
   "source": [
    "# get the list of images in our dataset directory, \n",
    "# then init the list of data and class images\n",
    "data = []\n",
    "labels = []\n",
    "\n",
    "for category in CATEGORIES:\n",
    "    path = os.path.join(DIRECTORY, category)\n",
    "    # looping over image paths and prepocessing the images\n",
    "    for img in os.listdir(path):\n",
    "        img_path = os.path.join(path,img)\n",
    "        image = load_img(img_path,target_size=(224,224)) # resize all images, target size\n",
    "        image = img_to_array(image)\n",
    "        image = preprocess_input(image)\n",
    "        data.append(image)\n",
    "        labels.append(category)"
   ]
  },
  {
   "cell_type": "code",
   "execution_count": 6,
   "id": "51e51386-377f-4547-967b-c4f7383bc705",
   "metadata": {
    "scrolled": true,
    "tags": []
   },
   "outputs": [],
   "source": [
    "# labels"
   ]
  },
  {
   "cell_type": "code",
   "execution_count": 7,
   "id": "54a4b271-88f2-4cec-b004-2459d92a12ff",
   "metadata": {
    "tags": []
   },
   "outputs": [],
   "source": [
    "# one-hot encoding on the labels (1 and 0) binary format\n",
    "lb = LabelBinarizer()\n",
    "labels = lb.fit_transform(labels)\n",
    "# labels = to_categorical(labels)"
   ]
  },
  {
   "cell_type": "code",
   "execution_count": 8,
   "id": "bce97594-d11a-483b-a79e-877af21ab6c6",
   "metadata": {
    "scrolled": true,
    "tags": []
   },
   "outputs": [
    {
     "data": {
      "text/plain": [
       "array([[0, 1, 0],\n",
       "       [0, 1, 0],\n",
       "       [0, 1, 0],\n",
       "       ...,\n",
       "       [1, 0, 0],\n",
       "       [1, 0, 0],\n",
       "       [1, 0, 0]])"
      ]
     },
     "execution_count": 8,
     "metadata": {},
     "output_type": "execute_result"
    }
   ],
   "source": [
    "labels"
   ]
  },
  {
   "cell_type": "code",
   "execution_count": 9,
   "id": "f66183e3-d0c6-47ed-bf73-9cfa26a6c6a2",
   "metadata": {},
   "outputs": [],
   "source": [
    "# convert data to arrays b/c hidden layers only accept this format\n",
    "data = np.array(data)\n",
    "labels = np.array(labels)"
   ]
  },
  {
   "cell_type": "code",
   "execution_count": 14,
   "id": "1ff19a97-634d-45c3-a4a6-d06690412988",
   "metadata": {},
   "outputs": [
    {
     "data": {
      "text/plain": [
       "(8982, 224, 224, 3)"
      ]
     },
     "execution_count": 14,
     "metadata": {},
     "output_type": "execute_result"
    }
   ],
   "source": [
    "data.shape"
   ]
  },
  {
   "cell_type": "code",
   "execution_count": null,
   "id": "703f4262-8d79-4e27-a217-ee5fa8ac64ab",
   "metadata": {},
   "outputs": [],
   "source": [
    "# split the data\n",
    "X_train, y_train, X_test, y_test = train_test_split(data, labels, test_size=0.2, stratify=labels, random_state=42)"
   ]
  },
  {
   "cell_type": "code",
   "execution_count": null,
   "id": "3e4c8784-3169-4d4a-866a-492b7ca0f5fe",
   "metadata": {},
   "outputs": [],
   "source": []
  }
 ],
 "metadata": {
  "kernelspec": {
   "display_name": "Python 3",
   "language": "python",
   "name": "python3"
  },
  "language_info": {
   "codemirror_mode": {
    "name": "ipython",
    "version": 3
   },
   "file_extension": ".py",
   "mimetype": "text/x-python",
   "name": "python",
   "nbconvert_exporter": "python",
   "pygments_lexer": "ipython3",
   "version": "3.7.9"
  }
 },
 "nbformat": 4,
 "nbformat_minor": 5
}
