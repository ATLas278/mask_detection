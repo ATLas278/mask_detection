{
 "cells": [
  {
   "cell_type": "code",
   "execution_count": 3,
   "id": "27ebebf1-8653-456d-8328-5b9dc258247a",
   "metadata": {},
   "outputs": [
    {
     "name": "stdout",
     "output_type": "stream",
     "text": [
      "/bin/bash: cv2: command not found\n"
     ]
    }
   ],
   "source": [
    "!cv2 version"
   ]
  },
  {
   "cell_type": "code",
   "execution_count": 80,
   "id": "254501cf-4d6d-42d2-97b0-65baef1fbcee",
   "metadata": {},
   "outputs": [
    {
     "name": "stdout",
     "output_type": "stream",
     "text": [
      "Requirement already satisfied: split-folders in /opt/conda/lib/python3.9/site-packages (0.4.3)\n",
      "Requirement already satisfied: tqdm in /opt/conda/lib/python3.9/site-packages (4.62.0)\n"
     ]
    }
   ],
   "source": [
    "!pip install split-folders tqdm"
   ]
  },
  {
   "cell_type": "code",
   "execution_count": 92,
   "id": "3a16e285-65ea-4ced-825c-f19a9e1511fb",
   "metadata": {},
   "outputs": [],
   "source": [
    "from tensorflow.keras.preprocessing.image import ImageDataGenerator # Generate batches of tensor image data with real-time data augmentation.\n",
    "from tensorflow.keras.applications import MobileNetV2 # CNN architecture that works well w/mobile devices as well\n",
    "from tensorflow.keras.layers import AveragePooling2D, Dropout, Flatten, Dense, Input\n",
    "from tensorflow.keras.models import Model\n",
    "from tensorflow.keras.optimizers import Adam # stochastic gradient descent method that is based on adaptive estimation of first-order and second-order moments.\n",
    "from tensorflow.keras.applications.mobilenet_v2 import preprocess_input # Preprocesses a tensor or Numpy array encoding a batch of images.\n",
    "from tensorflow.keras.preprocessing.image import img_to_array, load_img \n",
    "from tensorflow.keras.utils import to_categorical # converts a class vector (integers) to a binary class matrix\n",
    "from sklearn.preprocessing import LabelBinarizer, MultiLabelBinarizer, OneHotEncoder\n",
    "from sklearn.model_selection import train_test_split\n",
    "from sklearn.metrics import classification_report\n",
    "\n",
    "from imutils import paths\n",
    "import cv2\n",
    "import numpy as np\n",
    "import pandas as pd\n",
    "import os\n",
    "import splitfolders\n",
    "import matplotlib.pyplot as plt\n",
    "%matplotlib inline\n",
    "plt.style.use('ggplot')\n",
    "plt.rcParams.update({'font.size': 16})\n",
    "plt.rcParams['savefig.dpi'] = 200\n",
    "plt.rcParams['axes.facecolor'] = 'white'\n",
    "plt.rcParams['grid.color'] = 'lightgrey'"
   ]
  },
  {
   "cell_type": "markdown",
   "id": "afee51fc-e475-43f9-9476-ac7028c9f7f4",
   "metadata": {},
   "source": [
    "## Preprocessing the data"
   ]
  },
  {
   "cell_type": "code",
   "execution_count": 93,
   "id": "45d308cf-a6a5-4112-a077-b287aaccf238",
   "metadata": {},
   "outputs": [],
   "source": [
    "# init the initial learning rate, number of epochs to train for, and batch size\n",
    "init_lr = 1e-4\n",
    "epochs = 20\n",
    "bs = 32"
   ]
  },
  {
   "cell_type": "code",
   "execution_count": 94,
   "id": "2d6271c8-4973-4efc-8d80-6eba1c56d77d",
   "metadata": {},
   "outputs": [],
   "source": [
    "DIRECTORY = r\"data\"\n",
    "CATEGORIES = [\"with_mask\",\"without_mask\",\"mask_weared_incorrect\"]"
   ]
  },
  {
   "cell_type": "code",
   "execution_count": 95,
   "id": "3d4c9565-b003-49ac-99d8-05c55c70f891",
   "metadata": {},
   "outputs": [
    {
     "name": "stdout",
     "output_type": "stream",
     "text": [
      "[INFO] loading images...\n"
     ]
    }
   ],
   "source": [
    "print(\"[INFO] loading images...\")"
   ]
  },
  {
   "cell_type": "code",
   "execution_count": 96,
   "id": "5d6cd379-7d68-49cc-9ea4-f021698ad376",
   "metadata": {},
   "outputs": [],
   "source": [
    "# get the list of images in our dataset directory, \n",
    "# then init the list of data and class images\n",
    "# X = []\n",
    "# y = []\n",
    "\n",
    "# for category in CATEGORIES:\n",
    "#     path = os.path.join(DIRECTORY, category) # path to mask, no_mask, incorrect\n",
    "#     # looping over image paths and prepocessing the images\n",
    "#     for img in os.listdir(path):\n",
    "#         img_path = os.path.join(path,img)\n",
    "#         image = load_img(img_path,target_size=(192,192)) # resize all images, target size\n",
    "#         image = img_to_array(image)\n",
    "#         image = preprocess_input(image)\n",
    "#         X.append(image)\n",
    "#         y.append(category)"
   ]
  },
  {
   "cell_type": "code",
   "execution_count": 97,
   "id": "45a1027c-b58a-43e7-9e4e-18e2dcf336fb",
   "metadata": {
    "tags": []
   },
   "outputs": [],
   "source": [
    "# X = []\n",
    "# y = []\n",
    "\n",
    "# for category in CATEGORIES:\n",
    "#     path = os.path.join(DIRECTORY, category)\n",
    "#     for img in os.listdir(path):\n",
    "#         image = cv2.imread(os.path.join(path,img), cv2.IMREAD_GRAYSCALE)\n",
    "#         image = img_to_array(image)\n",
    "#         image = preprocess_input(image)\n",
    "# #         plt.imshow(img_array, cmap='gray')\n",
    "# #         plt.show()\n",
    "#         X.append(img_array)\n",
    "#         y.append(category)"
   ]
  },
  {
   "cell_type": "code",
   "execution_count": 98,
   "id": "54a4b271-88f2-4cec-b004-2459d92a12ff",
   "metadata": {
    "tags": []
   },
   "outputs": [],
   "source": [
    "# one-hot encoding on the labels (1 and 0) binary format\n",
    "# mlb = LabelBinarizer()\n",
    "# y = mlb.fit_transform(y)\n",
    "# labels = to_categorical(labels)"
   ]
  },
  {
   "cell_type": "code",
   "execution_count": 99,
   "id": "f66183e3-d0c6-47ed-bf73-9cfa26a6c6a2",
   "metadata": {},
   "outputs": [],
   "source": [
    "# convert data to arrays b/c hidden layers only accept this format\n",
    "# X = np.array(X,dtype='float32')\n",
    "# y = np.array(y)"
   ]
  },
  {
   "cell_type": "code",
   "execution_count": 100,
   "id": "703f4262-8d79-4e27-a217-ee5fa8ac64ab",
   "metadata": {},
   "outputs": [],
   "source": [
    "# split the data\n",
    "# X_train, X_test, y_train, y_test = train_test_split(X, y, test_size=0.2, random_state=42)"
   ]
  },
  {
   "cell_type": "code",
   "execution_count": 101,
   "id": "690707c7-1c0f-43b0-84fb-ec6441521f58",
   "metadata": {},
   "outputs": [
    {
     "name": "stderr",
     "output_type": "stream",
     "text": [
      "Copying files: 8982 files [00:01, 4933.32 files/s]\n"
     ]
    }
   ],
   "source": [
    "# splitfolders.ratio('data',output='split_data', seed=1337, ratio=(.8,.1,.1))"
   ]
  },
  {
   "cell_type": "code",
   "execution_count": 102,
   "id": "3e4c8784-3169-4d4a-866a-492b7ca0f5fe",
   "metadata": {},
   "outputs": [],
   "source": [
    "# construct the training image generator for data augmentation\n",
    "# recreating the images\n",
    "\n",
    "aug = ImageDataGenerator(\n",
    "        rotation_range=20,\n",
    "        zoom_range=0.15,\n",
    "        width_shift_range=0.2,\n",
    "        height_shift_range=0.2,\n",
    "        shear_range=0.15,\n",
    "        horizontal_flip=True,\n",
    "        fill_mode=\"nearest\")"
   ]
  },
  {
   "cell_type": "code",
   "execution_count": 103,
   "id": "fb3d271c-5a03-442c-9b7d-cb36f3dbb1e4",
   "metadata": {},
   "outputs": [
    {
     "name": "stdout",
     "output_type": "stream",
     "text": [
      "Found 7185 images belonging to 3 classes.\n",
      "Found 900 images belonging to 3 classes.\n",
      "Found 897 images belonging to 3 classes.\n"
     ]
    }
   ],
   "source": [
    "train = aug.flow_from_directory('split_data/train', class_mode='categorical', batch_size=bs)\n",
    "test = aug.flow_from_directory('split_data/test', class_mode='categorical',batch_size=bs)\n",
    "val = aug.flow_from_directory('split_data/val',class_mode='categorical',batch_size=bs)"
   ]
  },
  {
   "cell_type": "code",
   "execution_count": 104,
   "id": "ca6a15f6-a343-46e0-aba9-bcda336d6287",
   "metadata": {},
   "outputs": [
    {
     "name": "stdout",
     "output_type": "stream",
     "text": [
      "Batch shape=(32, 256, 256, 3), min=0.000, max=255.000\n"
     ]
    }
   ],
   "source": [
    "x_train, y_train = train.next()\n",
    "x_test,y_test = test.next()\n",
    "x_val, y_val = val.next()\n",
    "print('Batch shape=%s, min=%.3f, max=%.3f' % (x_test.shape, x_test.min(), x_test.max()))"
   ]
  },
  {
   "cell_type": "code",
   "execution_count": 105,
   "id": "bc6cc88b-9c2b-415a-8ccb-b9749259ac21",
   "metadata": {},
   "outputs": [],
   "source": [
    "# load MobileNetV2 network, ensuring the head FC (Fully Connected) laery sets are left off\n",
    "baseModel = MobileNetV2(input_shape=(192,192,3),weights=\"imagenet\", include_top=False, input_tensor=Input(shape=(192,192,3)))"
   ]
  },
  {
   "cell_type": "code",
   "execution_count": 112,
   "id": "7b7047d2-fc9a-4b73-a897-45289e2c7ee4",
   "metadata": {},
   "outputs": [],
   "source": [
    "# create the head of the model that will be placed on top of the base model\n",
    "headModel = baseModel.output\n",
    "headModel = AveragePooling2D(pool_size=(6,6))(headModel)\n",
    "headModel = Flatten(name=\"flatten\")(headModel)\n",
    "headModel = Dense(128, activation=\"relu\")(headModel)\n",
    "headModel = Dropout(0.5)(headModel)\n",
    "headModel = Dense(3, activation=\"softmax\")(headModel)"
   ]
  },
  {
   "cell_type": "code",
   "execution_count": 113,
   "id": "57237e07-f4e9-4cb3-a558-e2dce6d8e509",
   "metadata": {},
   "outputs": [],
   "source": [
    "# place the head FC model on top of the base model (this will become the actual model we will train)\n",
    "model = Model(inputs=baseModel.input, outputs=headModel)\n",
    "\n",
    "# lopp over all layers in the base model and freeze them so they will not be updated during the first training process\n",
    "for layer in baseModel.layers:\n",
    "    layer.trainable=False"
   ]
  },
  {
   "cell_type": "code",
   "execution_count": 114,
   "id": "9c5d2f56-5920-4129-a3c1-a4bdcf8a3612",
   "metadata": {},
   "outputs": [
    {
     "name": "stdout",
     "output_type": "stream",
     "text": [
      "[INFO] compiling model...\n"
     ]
    }
   ],
   "source": [
    "# compile model\n",
    "print(\"[INFO] compiling model...\")\n",
    "opt = Adam(lr=init_lr,decay=init_lr / epochs)\n",
    "model.compile(loss=\"categorical_crossentropy\", optimizer=opt, metrics=[\"accuracy\"])"
   ]
  },
  {
   "cell_type": "code",
   "execution_count": 115,
   "id": "2c9a7730-fdcd-4385-86ec-2e245fffe91b",
   "metadata": {},
   "outputs": [
    {
     "name": "stdout",
     "output_type": "stream",
     "text": [
      "[INFO] training head...\n",
      "Epoch 1/20\n",
      "1/1 [==============================] - 6s 6s/step - loss: 1.7500 - accuracy: 0.2812 - val_loss: 1.6487 - val_accuracy: 0.2188\n",
      "Epoch 2/20\n",
      "1/1 [==============================] - 2s 2s/step - loss: 1.5839 - accuracy: 0.3125 - val_loss: 1.5399 - val_accuracy: 0.2188\n",
      "Epoch 3/20\n",
      "1/1 [==============================] - 2s 2s/step - loss: 1.8017 - accuracy: 0.2188 - val_loss: 1.2866 - val_accuracy: 0.3750\n",
      "Epoch 4/20\n",
      "1/1 [==============================] - 2s 2s/step - loss: 1.0638 - accuracy: 0.5625 - val_loss: 1.3529 - val_accuracy: 0.1875\n",
      "Epoch 5/20\n",
      "1/1 [==============================] - 2s 2s/step - loss: 1.4288 - accuracy: 0.2812 - val_loss: 1.1485 - val_accuracy: 0.3750\n",
      "Epoch 6/20\n",
      "1/1 [==============================] - 2s 2s/step - loss: 1.4567 - accuracy: 0.3125 - val_loss: 1.2008 - val_accuracy: 0.2500\n",
      "Epoch 7/20\n",
      "1/1 [==============================] - 3s 3s/step - loss: 1.5568 - accuracy: 0.3438 - val_loss: 1.1030 - val_accuracy: 0.4375\n",
      "Epoch 8/20\n",
      "1/1 [==============================] - 2s 2s/step - loss: 1.7778 - accuracy: 0.1562 - val_loss: 1.1546 - val_accuracy: 0.3438\n",
      "Epoch 9/20\n",
      "1/1 [==============================] - 2s 2s/step - loss: 1.7844 - accuracy: 0.1562 - val_loss: 1.1087 - val_accuracy: 0.4375\n",
      "Epoch 10/20\n",
      "1/1 [==============================] - 3s 3s/step - loss: 1.6211 - accuracy: 0.2500 - val_loss: 1.0472 - val_accuracy: 0.4688\n",
      "Epoch 11/20\n",
      "1/1 [==============================] - 2s 2s/step - loss: 1.3456 - accuracy: 0.3750 - val_loss: 1.1930 - val_accuracy: 0.4062\n",
      "Epoch 12/20\n",
      "1/1 [==============================] - 2s 2s/step - loss: 1.1927 - accuracy: 0.5000 - val_loss: 1.0364 - val_accuracy: 0.5312\n",
      "Epoch 13/20\n",
      "1/1 [==============================] - 3s 3s/step - loss: 1.4506 - accuracy: 0.3438 - val_loss: 1.1476 - val_accuracy: 0.4062\n",
      "Epoch 14/20\n",
      "1/1 [==============================] - 3s 3s/step - loss: 1.7379 - accuracy: 0.1875 - val_loss: 1.1373 - val_accuracy: 0.2500\n",
      "Epoch 15/20\n",
      "1/1 [==============================] - 3s 3s/step - loss: 1.3966 - accuracy: 0.3438 - val_loss: 1.1393 - val_accuracy: 0.4375\n",
      "Epoch 16/20\n",
      "1/1 [==============================] - ETA: 0s - loss: 1.5953 - accuracy: 0.3750"
     ]
    },
    {
     "ename": "KeyboardInterrupt",
     "evalue": "",
     "output_type": "error",
     "traceback": [
      "\u001b[0;31m---------------------------------------------------------------------------\u001b[0m",
      "\u001b[0;31mKeyboardInterrupt\u001b[0m                         Traceback (most recent call last)",
      "\u001b[0;32m/tmp/ipykernel_616/171469896.py\u001b[0m in \u001b[0;36m<module>\u001b[0;34m\u001b[0m\n\u001b[1;32m      1\u001b[0m \u001b[0;31m# train head of the network\u001b[0m\u001b[0;34m\u001b[0m\u001b[0;34m\u001b[0m\u001b[0;34m\u001b[0m\u001b[0m\n\u001b[1;32m      2\u001b[0m \u001b[0mprint\u001b[0m\u001b[0;34m(\u001b[0m\u001b[0;34m\"[INFO] training head...\"\u001b[0m\u001b[0;34m)\u001b[0m\u001b[0;34m\u001b[0m\u001b[0;34m\u001b[0m\u001b[0m\n\u001b[0;32m----> 3\u001b[0;31m H = model.fit(\n\u001b[0m\u001b[1;32m      4\u001b[0m         \u001b[0mtrain\u001b[0m\u001b[0;34m,\u001b[0m\u001b[0;34m\u001b[0m\u001b[0;34m\u001b[0m\u001b[0m\n\u001b[1;32m      5\u001b[0m         \u001b[0msteps_per_epoch\u001b[0m\u001b[0;34m=\u001b[0m\u001b[0mlen\u001b[0m\u001b[0;34m(\u001b[0m\u001b[0mx_train\u001b[0m\u001b[0;34m)\u001b[0m \u001b[0;34m//\u001b[0m \u001b[0mbs\u001b[0m\u001b[0;34m,\u001b[0m\u001b[0;34m\u001b[0m\u001b[0;34m\u001b[0m\u001b[0m\n",
      "\u001b[0;32m/opt/conda/lib/python3.9/site-packages/tensorflow/python/keras/engine/training.py\u001b[0m in \u001b[0;36mfit\u001b[0;34m(self, x, y, batch_size, epochs, verbose, callbacks, validation_split, validation_data, shuffle, class_weight, sample_weight, initial_epoch, steps_per_epoch, validation_steps, validation_batch_size, validation_freq, max_queue_size, workers, use_multiprocessing)\u001b[0m\n\u001b[1;32m   1129\u001b[0m                 \u001b[0mmodel\u001b[0m\u001b[0;34m=\u001b[0m\u001b[0mself\u001b[0m\u001b[0;34m,\u001b[0m\u001b[0;34m\u001b[0m\u001b[0;34m\u001b[0m\u001b[0m\n\u001b[1;32m   1130\u001b[0m                 steps_per_execution=self._steps_per_execution)\n\u001b[0;32m-> 1131\u001b[0;31m           val_logs = self.evaluate(\n\u001b[0m\u001b[1;32m   1132\u001b[0m               \u001b[0mx\u001b[0m\u001b[0;34m=\u001b[0m\u001b[0mval_x\u001b[0m\u001b[0;34m,\u001b[0m\u001b[0;34m\u001b[0m\u001b[0;34m\u001b[0m\u001b[0m\n\u001b[1;32m   1133\u001b[0m               \u001b[0my\u001b[0m\u001b[0;34m=\u001b[0m\u001b[0mval_y\u001b[0m\u001b[0;34m,\u001b[0m\u001b[0;34m\u001b[0m\u001b[0;34m\u001b[0m\u001b[0m\n",
      "\u001b[0;32m/opt/conda/lib/python3.9/site-packages/tensorflow/python/keras/engine/training.py\u001b[0m in \u001b[0;36mevaluate\u001b[0;34m(self, x, y, batch_size, verbose, sample_weight, steps, callbacks, max_queue_size, workers, use_multiprocessing, return_dict)\u001b[0m\n\u001b[1;32m   1387\u001b[0m             \u001b[0;32mwith\u001b[0m \u001b[0mtrace\u001b[0m\u001b[0;34m.\u001b[0m\u001b[0mTrace\u001b[0m\u001b[0;34m(\u001b[0m\u001b[0;34m'test'\u001b[0m\u001b[0;34m,\u001b[0m \u001b[0mstep_num\u001b[0m\u001b[0;34m=\u001b[0m\u001b[0mstep\u001b[0m\u001b[0;34m,\u001b[0m \u001b[0m_r\u001b[0m\u001b[0;34m=\u001b[0m\u001b[0;36m1\u001b[0m\u001b[0;34m)\u001b[0m\u001b[0;34m:\u001b[0m\u001b[0;34m\u001b[0m\u001b[0;34m\u001b[0m\u001b[0m\n\u001b[1;32m   1388\u001b[0m               \u001b[0mcallbacks\u001b[0m\u001b[0;34m.\u001b[0m\u001b[0mon_test_batch_begin\u001b[0m\u001b[0;34m(\u001b[0m\u001b[0mstep\u001b[0m\u001b[0;34m)\u001b[0m\u001b[0;34m\u001b[0m\u001b[0;34m\u001b[0m\u001b[0m\n\u001b[0;32m-> 1389\u001b[0;31m               \u001b[0mtmp_logs\u001b[0m \u001b[0;34m=\u001b[0m \u001b[0mself\u001b[0m\u001b[0;34m.\u001b[0m\u001b[0mtest_function\u001b[0m\u001b[0;34m(\u001b[0m\u001b[0miterator\u001b[0m\u001b[0;34m)\u001b[0m\u001b[0;34m\u001b[0m\u001b[0;34m\u001b[0m\u001b[0m\n\u001b[0m\u001b[1;32m   1390\u001b[0m               \u001b[0;32mif\u001b[0m \u001b[0mdata_handler\u001b[0m\u001b[0;34m.\u001b[0m\u001b[0mshould_sync\u001b[0m\u001b[0;34m:\u001b[0m\u001b[0;34m\u001b[0m\u001b[0;34m\u001b[0m\u001b[0m\n\u001b[1;32m   1391\u001b[0m                 \u001b[0mcontext\u001b[0m\u001b[0;34m.\u001b[0m\u001b[0masync_wait\u001b[0m\u001b[0;34m(\u001b[0m\u001b[0;34m)\u001b[0m\u001b[0;34m\u001b[0m\u001b[0;34m\u001b[0m\u001b[0m\n",
      "\u001b[0;32m/opt/conda/lib/python3.9/site-packages/tensorflow/python/eager/def_function.py\u001b[0m in \u001b[0;36m__call__\u001b[0;34m(self, *args, **kwds)\u001b[0m\n\u001b[1;32m    826\u001b[0m     \u001b[0mtracing_count\u001b[0m \u001b[0;34m=\u001b[0m \u001b[0mself\u001b[0m\u001b[0;34m.\u001b[0m\u001b[0mexperimental_get_tracing_count\u001b[0m\u001b[0;34m(\u001b[0m\u001b[0;34m)\u001b[0m\u001b[0;34m\u001b[0m\u001b[0;34m\u001b[0m\u001b[0m\n\u001b[1;32m    827\u001b[0m     \u001b[0;32mwith\u001b[0m \u001b[0mtrace\u001b[0m\u001b[0;34m.\u001b[0m\u001b[0mTrace\u001b[0m\u001b[0;34m(\u001b[0m\u001b[0mself\u001b[0m\u001b[0;34m.\u001b[0m\u001b[0m_name\u001b[0m\u001b[0;34m)\u001b[0m \u001b[0;32mas\u001b[0m \u001b[0mtm\u001b[0m\u001b[0;34m:\u001b[0m\u001b[0;34m\u001b[0m\u001b[0;34m\u001b[0m\u001b[0m\n\u001b[0;32m--> 828\u001b[0;31m       \u001b[0mresult\u001b[0m \u001b[0;34m=\u001b[0m \u001b[0mself\u001b[0m\u001b[0;34m.\u001b[0m\u001b[0m_call\u001b[0m\u001b[0;34m(\u001b[0m\u001b[0;34m*\u001b[0m\u001b[0margs\u001b[0m\u001b[0;34m,\u001b[0m \u001b[0;34m**\u001b[0m\u001b[0mkwds\u001b[0m\u001b[0;34m)\u001b[0m\u001b[0;34m\u001b[0m\u001b[0;34m\u001b[0m\u001b[0m\n\u001b[0m\u001b[1;32m    829\u001b[0m       \u001b[0mcompiler\u001b[0m \u001b[0;34m=\u001b[0m \u001b[0;34m\"xla\"\u001b[0m \u001b[0;32mif\u001b[0m \u001b[0mself\u001b[0m\u001b[0;34m.\u001b[0m\u001b[0m_experimental_compile\u001b[0m \u001b[0;32melse\u001b[0m \u001b[0;34m\"nonXla\"\u001b[0m\u001b[0;34m\u001b[0m\u001b[0;34m\u001b[0m\u001b[0m\n\u001b[1;32m    830\u001b[0m       \u001b[0mnew_tracing_count\u001b[0m \u001b[0;34m=\u001b[0m \u001b[0mself\u001b[0m\u001b[0;34m.\u001b[0m\u001b[0mexperimental_get_tracing_count\u001b[0m\u001b[0;34m(\u001b[0m\u001b[0;34m)\u001b[0m\u001b[0;34m\u001b[0m\u001b[0;34m\u001b[0m\u001b[0m\n",
      "\u001b[0;32m/opt/conda/lib/python3.9/site-packages/tensorflow/python/eager/def_function.py\u001b[0m in \u001b[0;36m_call\u001b[0;34m(self, *args, **kwds)\u001b[0m\n\u001b[1;32m    860\u001b[0m       \u001b[0;31m# In this case we have not created variables on the first call. So we can\u001b[0m\u001b[0;34m\u001b[0m\u001b[0;34m\u001b[0m\u001b[0;34m\u001b[0m\u001b[0m\n\u001b[1;32m    861\u001b[0m       \u001b[0;31m# run the first trace but we should fail if variables are created.\u001b[0m\u001b[0;34m\u001b[0m\u001b[0;34m\u001b[0m\u001b[0;34m\u001b[0m\u001b[0m\n\u001b[0;32m--> 862\u001b[0;31m       \u001b[0mresults\u001b[0m \u001b[0;34m=\u001b[0m \u001b[0mself\u001b[0m\u001b[0;34m.\u001b[0m\u001b[0m_stateful_fn\u001b[0m\u001b[0;34m(\u001b[0m\u001b[0;34m*\u001b[0m\u001b[0margs\u001b[0m\u001b[0;34m,\u001b[0m \u001b[0;34m**\u001b[0m\u001b[0mkwds\u001b[0m\u001b[0;34m)\u001b[0m\u001b[0;34m\u001b[0m\u001b[0;34m\u001b[0m\u001b[0m\n\u001b[0m\u001b[1;32m    863\u001b[0m       \u001b[0;32mif\u001b[0m \u001b[0mself\u001b[0m\u001b[0;34m.\u001b[0m\u001b[0m_created_variables\u001b[0m\u001b[0;34m:\u001b[0m\u001b[0;34m\u001b[0m\u001b[0;34m\u001b[0m\u001b[0m\n\u001b[1;32m    864\u001b[0m         raise ValueError(\"Creating variables on a non-first call to a function\"\n",
      "\u001b[0;32m/opt/conda/lib/python3.9/site-packages/tensorflow/python/eager/function.py\u001b[0m in \u001b[0;36m__call__\u001b[0;34m(self, *args, **kwargs)\u001b[0m\n\u001b[1;32m   2940\u001b[0m       (graph_function,\n\u001b[1;32m   2941\u001b[0m        filtered_flat_args) = self._maybe_define_function(args, kwargs)\n\u001b[0;32m-> 2942\u001b[0;31m     return graph_function._call_flat(\n\u001b[0m\u001b[1;32m   2943\u001b[0m         filtered_flat_args, captured_inputs=graph_function.captured_inputs)  # pylint: disable=protected-access\n\u001b[1;32m   2944\u001b[0m \u001b[0;34m\u001b[0m\u001b[0m\n",
      "\u001b[0;32m/opt/conda/lib/python3.9/site-packages/tensorflow/python/eager/function.py\u001b[0m in \u001b[0;36m_call_flat\u001b[0;34m(self, args, captured_inputs, cancellation_manager)\u001b[0m\n\u001b[1;32m   1916\u001b[0m         and executing_eagerly):\n\u001b[1;32m   1917\u001b[0m       \u001b[0;31m# No tape is watching; skip to running the function.\u001b[0m\u001b[0;34m\u001b[0m\u001b[0;34m\u001b[0m\u001b[0;34m\u001b[0m\u001b[0m\n\u001b[0;32m-> 1918\u001b[0;31m       return self._build_call_outputs(self._inference_function.call(\n\u001b[0m\u001b[1;32m   1919\u001b[0m           ctx, args, cancellation_manager=cancellation_manager))\n\u001b[1;32m   1920\u001b[0m     forward_backward = self._select_forward_and_backward_functions(\n",
      "\u001b[0;32m/opt/conda/lib/python3.9/site-packages/tensorflow/python/eager/function.py\u001b[0m in \u001b[0;36mcall\u001b[0;34m(self, ctx, args, cancellation_manager)\u001b[0m\n\u001b[1;32m    553\u001b[0m       \u001b[0;32mwith\u001b[0m \u001b[0m_InterpolateFunctionError\u001b[0m\u001b[0;34m(\u001b[0m\u001b[0mself\u001b[0m\u001b[0;34m)\u001b[0m\u001b[0;34m:\u001b[0m\u001b[0;34m\u001b[0m\u001b[0;34m\u001b[0m\u001b[0m\n\u001b[1;32m    554\u001b[0m         \u001b[0;32mif\u001b[0m \u001b[0mcancellation_manager\u001b[0m \u001b[0;32mis\u001b[0m \u001b[0;32mNone\u001b[0m\u001b[0;34m:\u001b[0m\u001b[0;34m\u001b[0m\u001b[0;34m\u001b[0m\u001b[0m\n\u001b[0;32m--> 555\u001b[0;31m           outputs = execute.execute(\n\u001b[0m\u001b[1;32m    556\u001b[0m               \u001b[0mstr\u001b[0m\u001b[0;34m(\u001b[0m\u001b[0mself\u001b[0m\u001b[0;34m.\u001b[0m\u001b[0msignature\u001b[0m\u001b[0;34m.\u001b[0m\u001b[0mname\u001b[0m\u001b[0;34m)\u001b[0m\u001b[0;34m,\u001b[0m\u001b[0;34m\u001b[0m\u001b[0;34m\u001b[0m\u001b[0m\n\u001b[1;32m    557\u001b[0m               \u001b[0mnum_outputs\u001b[0m\u001b[0;34m=\u001b[0m\u001b[0mself\u001b[0m\u001b[0;34m.\u001b[0m\u001b[0m_num_outputs\u001b[0m\u001b[0;34m,\u001b[0m\u001b[0;34m\u001b[0m\u001b[0;34m\u001b[0m\u001b[0m\n",
      "\u001b[0;32m/opt/conda/lib/python3.9/site-packages/tensorflow/python/eager/execute.py\u001b[0m in \u001b[0;36mquick_execute\u001b[0;34m(op_name, num_outputs, inputs, attrs, ctx, name)\u001b[0m\n\u001b[1;32m     57\u001b[0m   \u001b[0;32mtry\u001b[0m\u001b[0;34m:\u001b[0m\u001b[0;34m\u001b[0m\u001b[0;34m\u001b[0m\u001b[0m\n\u001b[1;32m     58\u001b[0m     \u001b[0mctx\u001b[0m\u001b[0;34m.\u001b[0m\u001b[0mensure_initialized\u001b[0m\u001b[0;34m(\u001b[0m\u001b[0;34m)\u001b[0m\u001b[0;34m\u001b[0m\u001b[0;34m\u001b[0m\u001b[0m\n\u001b[0;32m---> 59\u001b[0;31m     tensors = pywrap_tfe.TFE_Py_Execute(ctx._handle, device_name, op_name,\n\u001b[0m\u001b[1;32m     60\u001b[0m                                         inputs, attrs, num_outputs)\n\u001b[1;32m     61\u001b[0m   \u001b[0;32mexcept\u001b[0m \u001b[0mcore\u001b[0m\u001b[0;34m.\u001b[0m\u001b[0m_NotOkStatusException\u001b[0m \u001b[0;32mas\u001b[0m \u001b[0me\u001b[0m\u001b[0;34m:\u001b[0m\u001b[0;34m\u001b[0m\u001b[0;34m\u001b[0m\u001b[0m\n",
      "\u001b[0;31mKeyboardInterrupt\u001b[0m: "
     ]
    }
   ],
   "source": [
    "# train head of the network\n",
    "print(\"[INFO] training head...\")\n",
    "H = model.fit(\n",
    "        train,\n",
    "        steps_per_epoch=len(x_train) // bs,\n",
    "        validation_data=val,\n",
    "        validation_steps=len(x_val) //bs,\n",
    "        epochs=epochs\n",
    ")"
   ]
  },
  {
   "cell_type": "code",
   "execution_count": 45,
   "id": "7017fc50-43e5-4c88-be84-fedc874d3ec5",
   "metadata": {},
   "outputs": [
    {
     "data": {
      "text/plain": [
       "(7185, 1797)"
      ]
     },
     "execution_count": 45,
     "metadata": {},
     "output_type": "execute_result"
    }
   ],
   "source": [
    "len(X_train),len(y_train)"
   ]
  },
  {
   "cell_type": "code",
   "execution_count": null,
   "id": "166276fc-39f8-4035-b177-ed35443fce38",
   "metadata": {},
   "outputs": [],
   "source": []
  }
 ],
 "metadata": {
  "kernelspec": {
   "display_name": "Python 3 (ipykernel)",
   "language": "python",
   "name": "python3"
  },
  "language_info": {
   "codemirror_mode": {
    "name": "ipython",
    "version": 3
   },
   "file_extension": ".py",
   "mimetype": "text/x-python",
   "name": "python",
   "nbconvert_exporter": "python",
   "pygments_lexer": "ipython3",
   "version": "3.9.6"
  }
 },
 "nbformat": 4,
 "nbformat_minor": 5
}
