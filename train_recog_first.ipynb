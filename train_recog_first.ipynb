{
 "cells": [
  {
   "cell_type": "code",
   "execution_count": 3,
   "id": "27ebebf1-8653-456d-8328-5b9dc258247a",
   "metadata": {},
   "outputs": [
    {
     "name": "stdout",
     "output_type": "stream",
     "text": [
      "/bin/bash: cv2: command not found\n"
     ]
    }
   ],
   "source": [
    "!cv2 version"
   ]
  },
  {
   "cell_type": "code",
   "execution_count": 19,
   "id": "254501cf-4d6d-42d2-97b0-65baef1fbcee",
   "metadata": {},
   "outputs": [
    {
     "name": "stdout",
     "output_type": "stream",
     "text": [
      "/bin/bash: line 0: fg: no job control\n"
     ]
    }
   ],
   "source": []
  },
  {
   "cell_type": "code",
   "execution_count": 1,
   "id": "3a16e285-65ea-4ced-825c-f19a9e1511fb",
   "metadata": {},
   "outputs": [],
   "source": [
    "from tensorflow.keras.preprocessing.image import ImageDataGenerator # Generate batches of tensor image data with real-time data augmentation.\n",
    "from tensorflow.keras.applications import MobileNetV2 # CNN architecture that works well w/mobile devices as well\n",
    "from tensorflow.keras.layers import AveragePooling2D, Dropout, Flatten, Dense, Input\n",
    "from tensorflow.keras.models import Model\n",
    "from tensorflow.keras.optimizers import Adam # stochastic gradient descent method that is based on adaptive estimation of first-order and second-order moments.\n",
    "from tensorflow.keras.applications.mobilenet_v2 import preprocess_input # Preprocesses a tensor or Numpy array encoding a batch of images.\n",
    "from tensorflow.keras.preprocessing.image import img_to_array, load_img \n",
    "from tensorflow.keras.utils import to_categorical # converts a class vector (integers) to a binary class matrix\n",
    "from sklearn.preprocessing import LabelBinarizer, MultiLabelBinarizer, OneHotEncoder\n",
    "from sklearn.model_selection import train_test_split\n",
    "from sklearn.metrics import classification_report\n",
    "\n",
    "from imutils import paths\n",
    "import cv2\n",
    "import numpy as np\n",
    "import pandas as pd\n",
    "import os\n",
    "import matplotlib.pyplot as plt\n",
    "%matplotlib inline\n",
    "plt.style.use('ggplot')\n",
    "plt.rcParams.update({'font.size': 16})\n",
    "plt.rcParams['savefig.dpi'] = 200\n",
    "plt.rcParams['axes.facecolor'] = 'white'\n",
    "plt.rcParams['grid.color'] = 'lightgrey'"
   ]
  },
  {
   "cell_type": "markdown",
   "id": "afee51fc-e475-43f9-9476-ac7028c9f7f4",
   "metadata": {},
   "source": [
    "## Preprocessing the data"
   ]
  },
  {
   "cell_type": "code",
   "execution_count": 2,
   "id": "45d308cf-a6a5-4112-a077-b287aaccf238",
   "metadata": {},
   "outputs": [],
   "source": [
    "# init the initial learning rate, number of epochs to train for, and batch size\n",
    "init_lr = 1e-4\n",
    "epochs = 20\n",
    "bs = 32"
   ]
  },
  {
   "cell_type": "code",
   "execution_count": 3,
   "id": "2d6271c8-4973-4efc-8d80-6eba1c56d77d",
   "metadata": {},
   "outputs": [],
   "source": [
    "DIRECTORY = r\"data\"\n",
    "CATEGORIES = [\"with_mask\",\"without_mask\",\"mask_weared_incorrect\"]"
   ]
  },
  {
   "cell_type": "code",
   "execution_count": 4,
   "id": "3d4c9565-b003-49ac-99d8-05c55c70f891",
   "metadata": {},
   "outputs": [
    {
     "name": "stdout",
     "output_type": "stream",
     "text": [
      "[INFO] loading images...\n"
     ]
    }
   ],
   "source": [
    "print(\"[INFO] loading images...\")"
   ]
  },
  {
   "cell_type": "code",
   "execution_count": 5,
   "id": "5d6cd379-7d68-49cc-9ea4-f021698ad376",
   "metadata": {},
   "outputs": [],
   "source": [
    "# get the list of images in our dataset directory, \n",
    "# then init the list of data and class images\n",
    "X = []\n",
    "y = []\n",
    "\n",
    "for category in CATEGORIES:\n",
    "    path = os.path.join(DIRECTORY, category)\n",
    "    # looping over image paths and prepocessing the images\n",
    "    for img in os.listdir(path):\n",
    "        img_path = os.path.join(path,img)\n",
    "        image = load_img(img_path,target_size=(192,192)) # resize all images, target size\n",
    "        image = img_to_array(image)\n",
    "        image = preprocess_input(image)\n",
    "        X.append(image)\n",
    "        y.append(category)"
   ]
  },
  {
   "cell_type": "code",
   "execution_count": 6,
   "id": "54a4b271-88f2-4cec-b004-2459d92a12ff",
   "metadata": {
    "tags": []
   },
   "outputs": [],
   "source": [
    "# one-hot encoding on the labels (1 and 0) binary format\n",
    "mlb = LabelBinarizer()\n",
    "y = mlb.fit_transform(y)\n",
    "# labels = to_categorical(labels)"
   ]
  },
  {
   "cell_type": "code",
   "execution_count": 7,
   "id": "f66183e3-d0c6-47ed-bf73-9cfa26a6c6a2",
   "metadata": {},
   "outputs": [],
   "source": [
    "# convert data to arrays b/c hidden layers only accept this format\n",
    "X = np.array(X,dtype='float32')\n",
    "y = np.array(y)"
   ]
  },
  {
   "cell_type": "code",
   "execution_count": 8,
   "id": "703f4262-8d79-4e27-a217-ee5fa8ac64ab",
   "metadata": {},
   "outputs": [],
   "source": [
    "# split the data\n",
    "X_train, X_test, y_train, y_test = train_test_split(X, y, test_size=0.2, random_state=42)"
   ]
  },
  {
   "cell_type": "code",
   "execution_count": 9,
   "id": "3e4c8784-3169-4d4a-866a-492b7ca0f5fe",
   "metadata": {},
   "outputs": [],
   "source": [
    "# construct the training image generator for data augmentation\n",
    "# recreating the images\n",
    "\n",
    "aug = ImageDataGenerator(\n",
    "        rotation_range=20,\n",
    "        zoom_range=0.15,\n",
    "        width_shift_range=0.2,\n",
    "        height_shift_range=0.2,\n",
    "        shear_range=0.15,\n",
    "        horizontal_flip=True,\n",
    "        fill_mode=\"nearest\")"
   ]
  },
  {
   "cell_type": "code",
   "execution_count": 10,
   "id": "bc6cc88b-9c2b-415a-8ccb-b9749259ac21",
   "metadata": {},
   "outputs": [
    {
     "name": "stderr",
     "output_type": "stream",
     "text": [
      "2021-08-24 23:28:55.266540: I tensorflow/core/platform/cpu_feature_guard.cc:142] This TensorFlow binary is optimized with oneAPI Deep Neural Network Library (oneDNN) to use the following CPU instructions in performance-critical operations:  SSE4.1 SSE4.2 AVX AVX2 FMA\n",
      "To enable them in other operations, rebuild TensorFlow with the appropriate compiler flags.\n"
     ]
    }
   ],
   "source": [
    "# load MobileNetV2 network, ensuring the head FC (Fully Connected) laery sets are left off\n",
    "baseModel = MobileNetV2(input_shape=(192,192,3),weights=\"imagenet\", include_top=False, input_tensor=Input(shape=(192,192,3)))"
   ]
  },
  {
   "cell_type": "code",
   "execution_count": 11,
   "id": "7b7047d2-fc9a-4b73-a897-45289e2c7ee4",
   "metadata": {},
   "outputs": [],
   "source": [
    "# create the head of the model that will be placed on top of the base model\n",
    "headModel = baseModel.output\n",
    "headModel = AveragePooling2D(pool_size=(6,6))(headModel)\n",
    "headModel = Flatten(name=\"flatten\")(headModel)\n",
    "headModel = Dense(128, activation=\"relu\")(headModel)\n",
    "headModel = Dropout(0.5)(headModel)\n",
    "headModel = Dense(2, activation=\"softmax\")(headModel)"
   ]
  },
  {
   "cell_type": "code",
   "execution_count": 12,
   "id": "57237e07-f4e9-4cb3-a558-e2dce6d8e509",
   "metadata": {},
   "outputs": [],
   "source": [
    "# place the head FC model on top of the base model (this will become the actual model we will train)\n",
    "model = Model(inputs=baseModel.input, outputs=headModel)\n",
    "\n",
    "# lopp over all layers in the base model and freeze them so they will not be updated during the first training process\n",
    "for layer in baseModel.layers:\n",
    "    layer.trainable=False"
   ]
  },
  {
   "cell_type": "code",
   "execution_count": 13,
   "id": "9c5d2f56-5920-4129-a3c1-a4bdcf8a3612",
   "metadata": {},
   "outputs": [
    {
     "name": "stdout",
     "output_type": "stream",
     "text": [
      "[INFO] compiling model...\n"
     ]
    }
   ],
   "source": [
    "# compile model\n",
    "print(\"[INFO] compiling model...\")\n",
    "opt = Adam(lr=init_lr,decay=init_lr / epochs)\n",
    "model.compile(loss=\"categorical_crossentropy\", optimizer=opt, metrics=[\"accuracy\"])"
   ]
  },
  {
   "cell_type": "code",
   "execution_count": null,
   "id": "2c9a7730-fdcd-4385-86ec-2e245fffe91b",
   "metadata": {},
   "outputs": [
    {
     "name": "stdout",
     "output_type": "stream",
     "text": [
      "[INFO] training head...\n"
     ]
    },
    {
     "name": "stderr",
     "output_type": "stream",
     "text": [
      "2021-08-24 23:28:56.820735: I tensorflow/compiler/mlir/mlir_graph_optimization_pass.cc:116] None of the MLIR optimization passes are enabled (registered 2)\n",
      "2021-08-24 23:28:56.844369: I tensorflow/core/platform/profile_utils/cpu_utils.cc:112] CPU Frequency: 2799925000 Hz\n"
     ]
    },
    {
     "name": "stdout",
     "output_type": "stream",
     "text": [
      "Epoch 1/20\n"
     ]
    },
    {
     "name": "stderr",
     "output_type": "stream",
     "text": [
      "2021-08-24 23:28:59.137594: W tensorflow/core/framework/cpu_allocator_impl.cc:80] Allocation of 37748736 exceeds 10% of free system memory.\n",
      "2021-08-24 23:28:59.192067: W tensorflow/core/framework/cpu_allocator_impl.cc:80] Allocation of 37748736 exceeds 10% of free system memory.\n",
      "2021-08-24 23:28:59.252550: W tensorflow/core/framework/cpu_allocator_impl.cc:80] Allocation of 37748736 exceeds 10% of free system memory.\n",
      "2021-08-24 23:28:59.272685: W tensorflow/core/framework/cpu_allocator_impl.cc:80] Allocation of 18874368 exceeds 10% of free system memory.\n",
      "2021-08-24 23:28:59.280806: W tensorflow/core/framework/cpu_allocator_impl.cc:80] Allocation of 113246208 exceeds 10% of free system memory.\n"
     ]
    }
   ],
   "source": [
    "# train head of the network\n",
    "print(\"[INFO] training head...\")\n",
    "H = model.fit(\n",
    "        aug.flow(X_train,y_train,batch_size=bs),\n",
    "        steps_per_epoch=len(X_train) // bs,\n",
    "        validation_data=(X_test,y_test),\n",
    "        validation_steps=len(X_test) //bs,\n",
    "        epochs=epochs\n",
    ")"
   ]
  },
  {
   "cell_type": "code",
   "execution_count": 45,
   "id": "7017fc50-43e5-4c88-be84-fedc874d3ec5",
   "metadata": {},
   "outputs": [
    {
     "data": {
      "text/plain": [
       "(7185, 1797)"
      ]
     },
     "execution_count": 45,
     "metadata": {},
     "output_type": "execute_result"
    }
   ],
   "source": [
    "len(X_train),len(y_train)"
   ]
  },
  {
   "cell_type": "code",
   "execution_count": null,
   "id": "166276fc-39f8-4035-b177-ed35443fce38",
   "metadata": {},
   "outputs": [],
   "source": []
  }
 ],
 "metadata": {
  "kernelspec": {
   "display_name": "Python 3 (ipykernel)",
   "language": "python",
   "name": "python3"
  },
  "language_info": {
   "codemirror_mode": {
    "name": "ipython",
    "version": 3
   },
   "file_extension": ".py",
   "mimetype": "text/x-python",
   "name": "python",
   "nbconvert_exporter": "python",
   "pygments_lexer": "ipython3",
   "version": "3.9.6"
  }
 },
 "nbformat": 4,
 "nbformat_minor": 5
}
