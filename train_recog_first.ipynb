{
 "cells": [
  {
   "cell_type": "code",
   "execution_count": 14,
   "id": "27ebebf1-8653-456d-8328-5b9dc258247a",
   "metadata": {},
   "outputs": [
    {
     "name": "stdout",
     "output_type": "stream",
     "text": [
      "/bin/bash: cv2: command not found\n"
     ]
    }
   ],
   "source": [
    "!cv2 version"
   ]
  },
  {
   "cell_type": "code",
   "execution_count": 17,
   "id": "3a16e285-65ea-4ced-825c-f19a9e1511fb",
   "metadata": {},
   "outputs": [],
   "source": [
    "from tensorflow.keras.preprocessing.image import ImageDataGenerator # Generate batches of tensor image data with real-time data augmentation.\n",
    "from tensorflow.keras.applications import MobileNetV2 # CNN architecture that works well w/mobile devices as well\n",
    "from tensorflow.keras.layers import AveragePooling2D, Dropout, Flatten, Dense, Input\n",
    "from tensorflow.keras.models import Model\n",
    "from tensorflow.keras.optimizers import Adam # stochastic gradient descent method that is based on adaptive estimation of first-order and second-order moments.\n",
    "from tensorflow.keras.applications.mobilenet_v2 import preprocess_input # Preprocesses a tensor or Numpy array encoding a batch of images.\n",
    "from tensorflow.keras.preprocessing.image import img_to_array, load_img \n",
    "from tensorflow.keras.utils import to_categorical # converts a class vector (integers) to a binary class matrix\n",
    "from sklearn.preprocessing import LabelBinarizer, MultiLabelBinarizer\n",
    "from sklearn.model_selection import train_test_split\n",
    "from sklearn.metrics import classification_report\n",
    "# from imutils import paths\n",
    "\n",
    "import numpy as np\n",
    "import pandas as pd\n",
    "import os\n",
    "import matplotlib.pyplot as plt\n",
    "%matplotlib inline\n",
    "plt.style.use('ggplot')\n",
    "plt.rcParams.update({'font.size': 16})\n",
    "plt.rcParams['savefig.dpi'] = 200\n",
    "plt.rcParams['axes.facecolor'] = 'white'\n",
    "plt.rcParams['grid.color'] = 'lightgrey'"
   ]
  },
  {
   "cell_type": "markdown",
   "id": "afee51fc-e475-43f9-9476-ac7028c9f7f4",
   "metadata": {},
   "source": [
    "## Preprocessing the data"
   ]
  },
  {
   "cell_type": "code",
   "execution_count": 5,
   "id": "45d308cf-a6a5-4112-a077-b287aaccf238",
   "metadata": {},
   "outputs": [],
   "source": [
    "# init the initial learning rate, number of epochs to train for, and batch size\n",
    "init_lr = 1e-4\n",
    "epochs = 20\n",
    "bs = 32"
   ]
  },
  {
   "cell_type": "code",
   "execution_count": 6,
   "id": "2d6271c8-4973-4efc-8d80-6eba1c56d77d",
   "metadata": {},
   "outputs": [],
   "source": [
    "DIRECTORY = r\"data\"\n",
    "CATEGORIES = [\"with_mask\",\"without_mask\",\"mask_weared_incorrect\"]"
   ]
  },
  {
   "cell_type": "code",
   "execution_count": 7,
   "id": "3d4c9565-b003-49ac-99d8-05c55c70f891",
   "metadata": {},
   "outputs": [
    {
     "name": "stdout",
     "output_type": "stream",
     "text": [
      "[INFO] loading images...\n"
     ]
    }
   ],
   "source": [
    "print(\"[INFO] loading images...\")"
   ]
  },
  {
   "cell_type": "code",
   "execution_count": 8,
   "id": "5d6cd379-7d68-49cc-9ea4-f021698ad376",
   "metadata": {},
   "outputs": [],
   "source": [
    "# get the list of images in our dataset directory, \n",
    "# then init the list of data and class images\n",
    "data = []\n",
    "labels = []\n",
    "\n",
    "for category in CATEGORIES:\n",
    "    path = os.path.join(DIRECTORY, category)\n",
    "    # looping over image paths and prepocessing the images\n",
    "    for img in os.listdir(path):\n",
    "        img_path = os.path.join(path,img)\n",
    "        image = load_img(img_path,target_size=(175,175)) # resize all images, target size\n",
    "        image = img_to_array(image)\n",
    "        image = preprocess_input(image)\n",
    "        data.append(image)\n",
    "        labels.append(category)"
   ]
  },
  {
   "cell_type": "code",
   "execution_count": 9,
   "id": "51e51386-377f-4547-967b-c4f7383bc705",
   "metadata": {
    "scrolled": true,
    "tags": []
   },
   "outputs": [],
   "source": [
    "# labels"
   ]
  },
  {
   "cell_type": "code",
   "execution_count": 10,
   "id": "54a4b271-88f2-4cec-b004-2459d92a12ff",
   "metadata": {
    "tags": []
   },
   "outputs": [],
   "source": [
    "# one-hot encoding on the labels (1 and 0) binary format\n",
    "mlb = MultiLabelBinarizer()\n",
    "labels = mlb.fit_transform(labels)\n",
    "# labels = to_categorical(labels)"
   ]
  },
  {
   "cell_type": "code",
   "execution_count": 11,
   "id": "bce97594-d11a-483b-a79e-877af21ab6c6",
   "metadata": {
    "scrolled": true,
    "tags": []
   },
   "outputs": [
    {
     "data": {
      "text/plain": [
       "array([[1, 1, 0, ..., 1, 0, 1],\n",
       "       [1, 1, 0, ..., 1, 0, 1],\n",
       "       [1, 1, 0, ..., 1, 0, 1],\n",
       "       ...,\n",
       "       [1, 1, 1, ..., 1, 0, 1],\n",
       "       [1, 1, 1, ..., 1, 0, 1],\n",
       "       [1, 1, 1, ..., 1, 0, 1]])"
      ]
     },
     "execution_count": 11,
     "metadata": {},
     "output_type": "execute_result"
    }
   ],
   "source": [
    "labels"
   ]
  },
  {
   "cell_type": "code",
   "execution_count": 12,
   "id": "f66183e3-d0c6-47ed-bf73-9cfa26a6c6a2",
   "metadata": {},
   "outputs": [],
   "source": [
    "# convert data to arrays b/c hidden layers only accept this format\n",
    "data = np.array(data)\n",
    "labels = np.array(labels)"
   ]
  },
  {
   "cell_type": "code",
   "execution_count": 13,
   "id": "1ff19a97-634d-45c3-a4a6-d06690412988",
   "metadata": {},
   "outputs": [
    {
     "data": {
      "text/plain": [
       "(8982, 175, 175, 3)"
      ]
     },
     "execution_count": 13,
     "metadata": {},
     "output_type": "execute_result"
    }
   ],
   "source": [
    "data.shape"
   ]
  },
  {
   "cell_type": "code",
   "execution_count": 14,
   "id": "703f4262-8d79-4e27-a217-ee5fa8ac64ab",
   "metadata": {},
   "outputs": [],
   "source": [
    "# split the data\n",
    "X_train, y_train, X_test, y_test = train_test_split(data, labels, test_size=0.2, stratify=labels, random_state=42)"
   ]
  },
  {
   "cell_type": "code",
   "execution_count": 15,
   "id": "3e4c8784-3169-4d4a-866a-492b7ca0f5fe",
   "metadata": {},
   "outputs": [],
   "source": [
    "# construct the training image generator for data augmentation\n",
    "# recreating the images\n",
    "\n",
    "aug = ImageDataGenerator(\n",
    "        rotation_range=20,\n",
    "        zoom_range=0.15,\n",
    "        width_shift_range=0.2,\n",
    "        height_shift_range=0.2,\n",
    "        shear_range=0.15,\n",
    "        horizontal_flip=True,\n",
    "        fill_mode=\"nearest\")"
   ]
  },
  {
   "cell_type": "code",
   "execution_count": 20,
   "id": "bc6cc88b-9c2b-415a-8ccb-b9749259ac21",
   "metadata": {},
   "outputs": [
    {
     "name": "stdout",
     "output_type": "stream",
     "text": [
      "WARNING:tensorflow:`input_shape` is undefined or non-square, or `rows` is not in [96, 128, 160, 192, 224]. Weights for input shape (224, 224) will be loaded as the default.\n"
     ]
    },
    {
     "name": "stderr",
     "output_type": "stream",
     "text": [
      "2021-08-23 03:12:11.791864: I tensorflow/core/platform/cpu_feature_guard.cc:142] This TensorFlow binary is optimized with oneAPI Deep Neural Network Library (oneDNN) to use the following CPU instructions in performance-critical operations:  SSE4.1 SSE4.2 AVX AVX2 FMA\n",
      "To enable them in other operations, rebuild TensorFlow with the appropriate compiler flags.\n"
     ]
    },
    {
     "name": "stdout",
     "output_type": "stream",
     "text": [
      "Downloading data from https://storage.googleapis.com/tensorflow/keras-applications/mobilenet_v2/mobilenet_v2_weights_tf_dim_ordering_tf_kernels_1.0_224_no_top.h5\n",
      "9412608/9406464 [==============================] - 0s 0us/step\n"
     ]
    }
   ],
   "source": [
    "# load MobileNetV2 network, ensuring the head FC (Fully Connected) laery sets are left off\n",
    "baseModel = MobileNetV2(weights=\"imagenet\", include_top=False, input_tensor=Input(shape=(175,175,3)))"
   ]
  },
  {
   "cell_type": "code",
   "execution_count": 28,
   "id": "7b7047d2-fc9a-4b73-a897-45289e2c7ee4",
   "metadata": {},
   "outputs": [],
   "source": [
    "# create the head of the model that will be placed on top of the base model\n",
    "headModel = baseModel.output\n",
    "headModel = AveragePooling2D(pool_size=(6,6))(headModel)\n",
    "headModel = Flatten(name=\"flatten\")(headModel)\n",
    "headModel = Dense(128, activation=\"relu\")(headModel)\n",
    "headModel = Dropout(0.5)(headModel)\n",
    "headModel = Dense(2, activation=\"softmax\")(headModel)"
   ]
  },
  {
   "cell_type": "code",
   "execution_count": 29,
   "id": "57237e07-f4e9-4cb3-a558-e2dce6d8e509",
   "metadata": {},
   "outputs": [],
   "source": [
    "# place the head FC model on top of the base model (this will become the actual model we will train)\n",
    "model = Model(inputs=baseModel.input, outputs=headModel)\n",
    "\n",
    "# lopp over all layers in the base model and freeze them so they will not be updated during the first training process\n",
    "for layer in baseModel.layers:\n",
    "    layer.trainable=False"
   ]
  },
  {
   "cell_type": "code",
   "execution_count": 32,
   "id": "9c5d2f56-5920-4129-a3c1-a4bdcf8a3612",
   "metadata": {},
   "outputs": [
    {
     "name": "stdout",
     "output_type": "stream",
     "text": [
      "[INFO] compiling model...\n"
     ]
    }
   ],
   "source": [
    "# compile model\n",
    "print(\"[INFO] compiling model...\")\n",
    "opt = Adam(lr=init_lr,decay=init_lr / epochs)\n",
    "model.compile(loss=\"binary_crossentropy\", optimizer=opt, metrics=[\"accuracy\"])"
   ]
  },
  {
   "cell_type": "code",
   "execution_count": null,
   "id": "2c9a7730-fdcd-4385-86ec-2e245fffe91b",
   "metadata": {},
   "outputs": [],
   "source": []
  }
 ],
 "metadata": {
  "kernelspec": {
   "display_name": "Python 3 (ipykernel)",
   "language": "python",
   "name": "python3"
  },
  "language_info": {
   "codemirror_mode": {
    "name": "ipython",
    "version": 3
   },
   "file_extension": ".py",
   "mimetype": "text/x-python",
   "name": "python",
   "nbconvert_exporter": "python",
   "pygments_lexer": "ipython3",
   "version": "3.9.6"
  }
 },
 "nbformat": 4,
 "nbformat_minor": 5
}
