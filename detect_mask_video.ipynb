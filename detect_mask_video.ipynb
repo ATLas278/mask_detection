{
 "cells": [
  {
   "cell_type": "code",
   "execution_count": 5,
   "id": "e06a9fa7-2a03-4da1-9f56-c66d6bd70725",
   "metadata": {},
   "outputs": [],
   "source": [
    "from tensorflow.keras.applications.mobilenet_v2 import preprocess_input\n",
    "from tensorflow.keras.preprocessing.image import img_to_array\n",
    "from tensorflow.keras.models import load_model\n",
    "from imutils.video import VideoStream\n",
    "import numpy as np\n",
    "import imutils\n",
    "import time\n",
    "import cv2\n",
    "import os"
   ]
  },
  {
   "cell_type": "code",
   "execution_count": 6,
   "id": "09c73b0a-d59e-4ea6-b1da-d6cde9450025",
   "metadata": {},
   "outputs": [],
   "source": [
    "def detect_and_predict_mask(frame, faceNet, maskNet):\n",
    "    # grab dimensions of frame then construct a blob from it\n",
    "    (h, w) = frame.shape[:2]\n",
    "    blob = cv2.dnn.blobFromImage(frame,1.0, (192,192),\n",
    "                                (104.0,177.0,123.0))\n",
    "    \n",
    "    # pass the blob through the network and obtain the face detections\n",
    "    faceNet.setInput(blob)\n",
    "    detections = faceNet.forward()\n",
    "    print(detections.shape)\n",
    "    \n",
    "    # init list of faces and corresponding locations, and the list of predictions from our facemask network\n",
    "    \n",
    "    faces = []\n",
    "    locations = []\n",
    "    predictions = []\n",
    "    \n",
    "    # loop over the detections\n",
    "    for i in range(0, detections.shape[2]):\n",
    "        # extract the confidence(probability) associated with the detection\n",
    "        confidence = detections[0,0,i,2]\n",
    "        \n",
    "        # filter out weak detections by ensuring the confidence is greater than the minimum confidence\n",
    "        if confidence > 0.5:\n",
    "            # compute the (x, y)-coordinates of the bounding box for the object\n",
    "            box = detections[0,0,i,3:7] * np.array([w,h,w,h])\n",
    "            (startX, startY, endX, endY) = box.astype('int')\n",
    "            \n",
    "            # make sure the bounding boxes fall within the dimensions of the frame\n",
    "            (startX, startY) = (max(0, startX), max(0, startY))\n",
    "            (endX, endY) = (min(w-1, endX), min(h-1, endY))\n",
    "            \n",
    "            # extract the face Region Of Interest, convert it from BGR to RGB channel ordering, resize it, and preprocess it\n",
    "            face = frame[startY:endY, startX:endX]\n",
    "            face = cv2.cvtColor(face, cv2.COLOR_BGR2RGB)\n",
    "            face = cv2.resize(face, (192,192))\n",
    "            face = img_to_array(face)\n",
    "            face = preprocess_input(face)\n",
    "            \n",
    "            # add the face and bounding boxes to their respective lists\n",
    "            faces.append(face)\n",
    "            locations.append((startX, startY, endX, endY))\n",
    "            \n",
    "    # only make the predictions if at least one face was detected\n",
    "    if len(faces) > 0:\n",
    "        # for faster inference we'll make batch predictions on all faces at the same time rather than one-by-one predictions in the obove for loop\n",
    "        faces = np.array(faces)\n",
    "        predictions = maskNet.predict(faces, batch_size=32)\n",
    "        \n",
    "    # return tuple of the face locations and their corresponding locations\n",
    "    return (locations, predictions)"
   ]
  },
  {
   "cell_type": "code",
   "execution_count": 9,
   "id": "1b5d8042-e2fd-4915-bd3d-a3b1ef47f34a",
   "metadata": {},
   "outputs": [
    {
     "name": "stderr",
     "output_type": "stream",
     "text": [
      "2021-08-29 03:30:31.351297: I tensorflow/core/platform/cpu_feature_guard.cc:142] This TensorFlow binary is optimized with oneAPI Deep Neural Network Library (oneDNN) to use the following CPU instructions in performance-critical operations:  SSE4.1 SSE4.2 AVX AVX2 FMA\n",
      "To enable them in other operations, rebuild TensorFlow with the appropriate compiler flags.\n"
     ]
    }
   ],
   "source": [
    "# load our serialized face detector model from disk\n",
    "prototxt_path = r\"face_detector/deploy.prototxt\"\n",
    "weightsPath = r\"face_detector/res10_300x300_ssd_iter_140000.caffemodel\"\n",
    "faceNet = cv2.dnn.readNet(prototxt_path,weightsPath)\n",
    "\n",
    "# load face mask detector model from disk\n",
    "maskNet = load_model(\"mask_detector.model\")"
   ]
  },
  {
   "cell_type": "code",
   "execution_count": 11,
   "id": "12f686c2-a49f-42d5-9c53-9712c36583fb",
   "metadata": {},
   "outputs": [
    {
     "name": "stdout",
     "output_type": "stream",
     "text": [
      "[INFO] Starting video stream...\n"
     ]
    },
    {
     "name": "stderr",
     "output_type": "stream",
     "text": [
      "[ WARN:0] global /tmp/pip-req-build-3umofm98/opencv/modules/videoio/src/cap_v4l.cpp (890) open VIDEOIO(V4L2:/dev/video0): can't open camera by index\n"
     ]
    }
   ],
   "source": [
    "# init the video stream\n",
    "print(\"[INFO] Starting video stream...\")\n",
    "vs = VideoStream(src=0).start()"
   ]
  },
  {
   "cell_type": "code",
   "execution_count": null,
   "id": "f2e2e167-1cfe-43b4-aebd-7f1952d192e8",
   "metadata": {},
   "outputs": [],
   "source": []
  },
  {
   "cell_type": "code",
   "execution_count": null,
   "id": "0406a1f9-29c7-4428-902b-ffc56a454083",
   "metadata": {},
   "outputs": [],
   "source": []
  }
 ],
 "metadata": {
  "kernelspec": {
   "display_name": "Python 3 (ipykernel)",
   "language": "python",
   "name": "python3"
  },
  "language_info": {
   "codemirror_mode": {
    "name": "ipython",
    "version": 3
   },
   "file_extension": ".py",
   "mimetype": "text/x-python",
   "name": "python",
   "nbconvert_exporter": "python",
   "pygments_lexer": "ipython3",
   "version": "3.9.6"
  }
 },
 "nbformat": 4,
 "nbformat_minor": 5
}
